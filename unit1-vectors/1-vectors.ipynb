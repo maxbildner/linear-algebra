{
 "cells": [
  {
   "cell_type": "markdown",
   "metadata": {},
   "source": [
    "#### UNIT 1\n",
    "Lesson 1: Vectors\n",
    "<br>\n",
    "https://www.khanacademy.org/math/linear-algebra/vectors-and-spaces/vectors/v/vector-introduction-linear-algebra"
   ]
  },
  {
   "cell_type": "markdown",
   "metadata": {},
   "source": [
    "<ins>**Scalar**</ins>\n",
    "- quantity that only has magnitude (length) or numerical value\n",
    "- Ex. 5mph (speed)\n",
    "- https://www.ling.upenn.edu/courses/cogs501/LinearAlgebraReview.html#:~:text=The%20magnitude%20(length)%20of%20a,of%20the%20element%2Dwise%20differences.\n",
    "\n",
    "\n",
    "&NewLine;\n",
    "<br>\n",
    "<ins>**Vector**</ins>\n",
    "- quantity that has **magnitude** and **direction**\n",
    "- Ex. 5mph east (velocity)\n",
    "- length of vector visually represent = magnitude, the arrow represents = direction\n",
    "\n",
    "\n",
    "&NewLine;\n",
    "<br>\n",
    "<ins>mathematical notations for a vector</ins>\n",
    "- 𝑣⃗ = a vector\n",
    "- Ex. \n",
    "  - 𝑣⃗ = (5, 0)\n",
    "    - this means 5 units in the horizontal direction, and 0 units in the vertical direction\n",
    "    - more common to see vectors written vertically\n",
    "      - [ 5\n",
    "      - . 0 ]\n"
   ]
  },
  {
   "cell_type": "markdown",
   "metadata": {},
   "source": [
    "<ins>Real Coordinate Space, **R^2**</ins>\n",
    "- refers to the 2 dimensional real coordinate space\n",
    "- all possible real valued 2-tuple\n",
    "\n",
    "\n",
    "&NewLine;\n",
    "<br>\n",
    "<ins>Tuple</ins>\n",
    "- in mathematics, this means ordered list of numbers\n",
    "- Ex. 2-tuple (1, 3) an ordered list of 2 numbers\n",
    "\n",
    "\n",
    "&NewLine;\n",
    "<br>\n",
    "<ins>Real Coordinate Space, **R^3**</ins>\n",
    "- refers to the 3 dimensional real coordinate space\n",
    "- all possible real valued 3-tuple\n",
    "- Ex.\n",
    "  - [ -1\n",
    "  - . 5\n",
    "  - . 3 ]\n",
    "\n",
    "\n",
    "&NewLine;\n",
    "<br>\n",
    "<ins>Real Coordinate Space, **R^n**</ins>\n",
    "- refers to the n dimensional real coordinate space\n",
    "- all possible real valued n-tuples"
   ]
  },
  {
   "cell_type": "code",
   "execution_count": 1,
   "metadata": {},
   "outputs": [
    {
     "name": "stdout",
     "output_type": "stream",
     "text": [
      "[1 3 5]\n"
     ]
    }
   ],
   "source": [
    "# creating a vector with 3 elements\n",
    "import numpy as np\n",
    "\n",
    "vector1 = np.array([1, 3, 5])\n",
    "\n",
    "print(vector1)"
   ]
  },
  {
   "cell_type": "code",
   "execution_count": 2,
   "metadata": {},
   "outputs": [
    {
     "data": {
      "text/plain": [
       "array([2, 2])"
      ]
     },
     "execution_count": 2,
     "metadata": {},
     "output_type": "execute_result"
    }
   ],
   "source": [
    "# vector arithmetic - ADDITION\n",
    "vector_a = np.array([ 6, -2 ])\n",
    "vector_b = np.array([ -4, 4 ])\n",
    "\n",
    "# vector_a + vector_b = ?\n",
    "# vector_a + vector_b = [ 2, 2 ]\n",
    "# vector_a + vector_b = [ (6 + -4), (-2 + 4) ]\n",
    "\n",
    "# see \"2-vector-addition.png\" for visual\n",
    "vector_a + vector_b"
   ]
  }
 ],
 "metadata": {
  "kernelspec": {
   "display_name": "base",
   "language": "python",
   "name": "python3"
  },
  "language_info": {
   "codemirror_mode": {
    "name": "ipython",
    "version": 3
   },
   "file_extension": ".py",
   "mimetype": "text/x-python",
   "name": "python",
   "nbconvert_exporter": "python",
   "pygments_lexer": "ipython3",
   "version": "3.10.9"
  },
  "orig_nbformat": 4
 },
 "nbformat": 4,
 "nbformat_minor": 2
}
